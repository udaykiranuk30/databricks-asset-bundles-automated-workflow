{
 "cells": [
  {
   "cell_type": "markdown",
   "metadata": {
    "application/vnd.databricks.v1+cell": {
     "cellMetadata": {},
     "inputWidgets": {},
     "nuid": "75ccddba-e972-46d3-b0f0-48881d13c1c7",
     "showTitle": false,
     "tableResultSettingsMap": {},
     "title": ""
    }
   },
   "source": [
    "## Databricks Asset Bundles Commands :\n",
    "Databricks Asset Bundles extend the Databricks CLI to help manage, deploy, and synchronize Databricks projects across environments (like dev, QA, and prod) using Infrastructure-as-Code principles. These bundles are operated via the databricks bundle command group.\n",
    "\n",
    "### Common Workflow :\n",
    "Initialize a bundle: databricks bundle init\n",
    "Configure YAML: define resources, artifacts, and environments.\n",
    "Validate: databricks bundle validate\n",
    "Deploy: databricks bundle deploy --target dev\n",
    "Bind (optional): databricks bundle deployment bind\n",
    "Run: databricks bundle run\n",
    "Destroy (if needed): databricks bundle destroy\n",
    "\n",
    "### Commands :\n",
    "**1.Core Commands**\n",
    "\n",
    "**databricks bundle init** — initializes a new Databricks Asset Bundle project using a default or custom template.\n",
    "\n",
    "**databricks bundle validate** — validates the bundle configuration (YAML files) for syntax and schema correctness.\n",
    "\n",
    "**databricks bundle generate** — creates a YAML bundle configuration for existing Databricks resources (e.g., a job or pipeline).\n",
    "\n",
    "**databricks bundle deploy** — deploys the Databricks Asset Bundle to a target environment (dev, staging, or prod).\n",
    "\n",
    "**databricks bundle run** — executes a job, pipeline, or workflow that is defined within the bundle.\n",
    "\n",
    "**databricks bundle destroy** — deletes or undeploys all resources associated with the deployed bundle.\n",
    "\n",
    "\n",
    "**2.Deployment Management Commands**\n",
    "\n",
    "**databricks bundle deployment bind** — links a bundle-defined resource to an existing remote Databricks resource so that it can be managed through the bundle.\n",
    "\n",
    "**databricks bundle deployment unbind** — removes the link between a bundle-managed resource and the remote Databricks resource without deleting the resource.\n",
    "\n",
    "**databricks bundle deployment list** — lists all existing deployments and their environments.\n",
    "\n",
    "**databricks bundle deployment show** — provides detailed information about a specific bundle deployment.\n",
    "\n",
    "\n",
    "**3.Environment and Target Commands**\n",
    "\n",
    "**databricks bundle environment list** — displays all configured environments in the bundle configuration file.\n",
    "\n",
    "**databricks bundle environment show <env>** — shows details about a specific environment configuration.\n",
    "\n",
    "**databricks bundle target validate** — checks for missing or invalid deployment targets before execution.\n",
    "\n",
    "\n",
    "\n",
    "**4.Utilities and Miscellaneous Commands**\n",
    "\n",
    "**databricks bundle sync** — synchronizes local files or configurations with the deployed bundle workspace.\n",
    "\n",
    "**databricks bundle status** — reports the current state of a deployed bundle (e.g., running, succeeded, failed).\n",
    "\n",
    "**databricks bundle logs** — retrieves and displays logs for a given job or pipeline run from the bundle.\n",
    "\n",
    "**databricks bundle clean** — cleans up old artifacts or intermediate files to keep the local folder tidy.\n",
    "\n",
    "**databricks bundle diff** — compares current bundle configuration against the deployed version to show changes."
   ]
  }
 ],
 "metadata": {
  "application/vnd.databricks.v1+notebook": {
   "computePreferences": {
    "hardware": {
     "accelerator": null,
     "gpuPoolId": null,
     "memory": null
    }
   },
   "dashboards": [],
   "environmentMetadata": {
    "base_environment": "",
    "environment_version": "4"
   },
   "inputWidgetPreferences": null,
   "language": "python",
   "notebookMetadata": {
    "pythonIndentUnit": 4
   },
   "notebookName": "AccessWebTerminal",
   "widgets": {}
  },
  "language_info": {
   "name": "python"
  }
 },
 "nbformat": 4,
 "nbformat_minor": 0
}
